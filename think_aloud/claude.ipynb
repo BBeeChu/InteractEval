{
 "cells": [
  {
   "cell_type": "code",
   "execution_count": 1,
   "metadata": {},
   "outputs": [],
   "source": [
    "import re\n",
    "import anthropic\n",
    "import json\n",
    "import random\n",
    "import pandas as pd\n",
    "import sys\n",
    "\n",
    "\n",
    "random.seed(42)\n",
    "with open(\"../data/summeval.json\") as file:\n",
    "    data = json.load(file)"
   ]
  },
  {
   "cell_type": "markdown",
   "metadata": {},
   "source": [
    "# LLM Initiation"
   ]
  },
  {
   "cell_type": "code",
   "execution_count": 2,
   "metadata": {},
   "outputs": [],
   "source": [
    "with open(\"../api_keys.json\", \"r\") as file:\n",
    "    api_keys = json.load(file)\n",
    "\n",
    "ANTHROPIC_API_KEY = api_keys[\"anthropic\"]\n",
    "\n",
    "model = anthropic.Anthropic(\n",
    "    api_key=ANTHROPIC_API_KEY\n",
    ")"
   ]
  },
  {
   "cell_type": "markdown",
   "metadata": {},
   "source": [
    "# Dimension Data Preparation"
   ]
  },
  {
   "cell_type": "code",
   "execution_count": 3,
   "metadata": {},
   "outputs": [],
   "source": [
    "DIMENSION = \"coherence\"\n",
    "DIMENSION_RUBRIC = {\n",
    "    \"coherence\":'Coherence ( 1 - 5 ) - the collective quality of all sentences. We align this dimension with the DUC quality question of structure and coherence whereby \"the summary should be well-structured and well-organized. The summary should not just be a heap of related information, but should build from sentence to a coherent body of information about a topic.\"',\n",
    "    \"consistency\":\"Consistency ( 1 - 5 ) - the factual alignment between the summary and the summarized source. A factually consistent summary contains only statements that are entailed by the source document. Annotators were also asked to penalize summaries that contained hallucinated facts.\",\n",
    "    \"fluency\":'Fluency ( 1 - 5 ) - the quality of individual sentences. Drawing again from the DUC quality guidelines, sentences in the summary \"should have no formatting problems, capitalization errors or obviously ungrammatical sentences (e.g., fragments, missing components) that make the text difficult to read.\"',\n",
    "    \"relevance\":\"Relevance ( 1 - 5 ) - selection of important content from the source. The summary should include only important information from the source document. Annotators were instructed to penalize summaries which contained redundancies and excess information.\"\n",
    "}"
   ]
  },
  {
   "cell_type": "markdown",
   "metadata": {},
   "source": [
    "# Prompt Construction"
   ]
  },
  {
   "cell_type": "code",
   "execution_count": 4,
   "metadata": {},
   "outputs": [],
   "source": [
    "sample_list = pd.read_pickle(f\"../data/{DIMENSION}/sample.pkl\")\n",
    "\n",
    "sampled_source = list()\n",
    "sampled_summary = list()\n",
    "sampled_score = list()\n",
    "\n",
    "for sample in sample_list:\n",
    "    sampled_source.append(sample[\"source\"])\n",
    "    sampled_summary.append(sample[\"system_output\"])\n",
    "    sampled_score.append(sample[\"scores\"][DIMENSION])\n"
   ]
  },
  {
   "cell_type": "markdown",
   "metadata": {},
   "source": [
    "# Prompt Construction"
   ]
  },
  {
   "cell_type": "code",
   "execution_count": 5,
   "metadata": {},
   "outputs": [],
   "source": [
    "with open(\"../prompts/think_aloud/claude/user_prompt.txt\", \"r\") as file:\n",
    "    user_prompt = file.read()"
   ]
  },
  {
   "cell_type": "code",
   "execution_count": 6,
   "metadata": {},
   "outputs": [],
   "source": [
    "message = model.messages.create(\n",
    "    model=\"claude-3-5-sonnet-20240620\",\n",
    "    max_tokens=4096,\n",
    "    messages=[\n",
    "        {\"role\": \"user\", \"content\": user_prompt.format(DIMENSION, DIMENSION, DIMENSION, DIMENSION,\n",
    "                                        DIMENSION, DIMENSION_RUBRIC[DIMENSION], sampled_source[0], sampled_summary[0], sampled_score[0],\n",
    "                                        sampled_source[1], sampled_summary[1], sampled_score[1], sampled_source[2], sampled_summary[2], sampled_score[2],\n",
    "                                        sampled_source[3], sampled_summary[3], sampled_score[3])}\n",
    "    ]\n",
    ")\n",
    "\n",
    "claude_response = ''.join(re.findall(r'\\{[^}]*\\}', message.content[0].text))"
   ]
  },
  {
   "cell_type": "code",
   "execution_count": 7,
   "metadata": {},
   "outputs": [
    {
     "data": {
      "text/plain": [
       "{1: 'Check if the summary presents information in a logical and organized manner, rather than as disconnected facts',\n",
       " 2: 'Assess whether the summary builds from sentence to sentence to create a coherent narrative about the topic',\n",
       " 3: 'Evaluate if the summary has a clear focus and avoids including irrelevant or tangential information',\n",
       " 4: 'Look for appropriate use of transitional phrases or words to connect ideas and improve flow between sentences',\n",
       " 5: 'Consider if the summary provides context and background information needed to understand the main points',\n",
       " 6: 'Examine whether the summary maintains a consistent tone and perspective throughout',\n",
       " 7: 'Check if the key points from the original article are presented in a sensible order in the summary',\n",
       " 8: 'Assess whether the summary avoids unnecessary repetition of information',\n",
       " 9: 'Evaluate if the summary has a clear beginning, middle, and end structure',\n",
       " 10: 'Consider whether the summary stands alone as a coherent piece, without requiring additional explanation'}"
      ]
     },
     "execution_count": 7,
     "metadata": {},
     "output_type": "execute_result"
    }
   ],
   "source": [
    "eval(claude_response)"
   ]
  }
 ],
 "metadata": {
  "kernelspec": {
   "display_name": "geval",
   "language": "python",
   "name": "python3"
  },
  "language_info": {
   "codemirror_mode": {
    "name": "ipython",
    "version": 3
   },
   "file_extension": ".py",
   "mimetype": "text/x-python",
   "name": "python",
   "nbconvert_exporter": "python",
   "pygments_lexer": "ipython3",
   "version": "3.9.0"
  }
 },
 "nbformat": 4,
 "nbformat_minor": 2
}
